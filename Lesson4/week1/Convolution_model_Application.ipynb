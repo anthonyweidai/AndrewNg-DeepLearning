{
 "cells": [
  {
   "cell_type": "markdown",
   "metadata": {},
   "source": [
    "# Convolutional Neural Networks: Application\n",
    "\n",
    "Welcome to Course 4's second assignment! In this notebook, you will:\n",
    "\n",
    "- Create a mood classifer using the TF Keras Sequential API\n",
    "- Build a ConvNet to identify sign language digits using the TF Keras Functional API\n",
    "\n",
    "**After this assignment you will be able to:**\n",
    "\n",
    "- Build and train a ConvNet in TensorFlow for a __binary__ classification problem\n",
    "- Build and train a ConvNet in TensorFlow for a __multiclass__ classification problem\n",
    "- Explain different use cases for the Sequential and Functional APIs\n",
    "\n",
    "To complete this assignment, you should already be familiar with TensorFlow. If you are not, please refer back to the **TensorFlow Tutorial** of the third week of Course 2 (\"**Improving deep neural networks**\")."
   ]
  },
  {
   "cell_type": "markdown",
   "metadata": {},
   "source": [
    "## Table of Contents\n",
    "\n",
    "- [1 - Packages](#1)\n",
    "    - [1.1 - Load the Data and Split the Data into Train/Test Sets](#1-1)\n",
    "- [2 - Layers in TF Keras](#2)\n",
    "- [3 - The Sequential API](#3)\n",
    "    - [3.1 - Create the Sequential Model](#3-1)\n",
    "        - [Exercise 1 - happyModel](#ex-1)\n",
    "    - [3.2 - Train and Evaluate the Model](#3-2)\n",
    "- [4 - The Functional API](#4)\n",
    "    - [4.1 - Load the SIGNS Dataset](#4-1)\n",
    "    - [4.2 - Split the Data into Train/Test Sets](#4-2)\n",
    "    - [4.3 - Forward Propagation](#4-3)\n",
    "        - [Exercise 2 - convolutional_model](#ex-2)\n",
    "    - [4.4 - Train the Model](#4-4)\n",
    "- [5 - History Object](#5)\n",
    "- [6 - Bibliography](#6)"
   ]
  },
  {
   "cell_type": "markdown",
   "metadata": {},
   "source": [
    "<a name='1'></a>\n",
    "## 1 - Packages\n",
    "\n",
    "As usual, begin by loading in the packages."
   ]
  },
  {
   "cell_type": "code",
   "execution_count": 1,
   "metadata": {},
   "outputs": [],
   "source": [
    "import math\n",
    "import numpy as np\n",
    "import h5py\n",
    "import matplotlib.pyplot as plt\n",
    "from matplotlib.pyplot import imread\n",
    "import scipy\n",
    "from PIL import Image\n",
    "import pandas as pd\n",
    "import tensorflow as tf\n",
    "import tensorflow.keras.layers as tfl\n",
    "from tensorflow.python.framework import ops\n",
    "from cnn_utils import *\n",
    "from test_utils import summary, comparator\n",
    "\n",
    "%matplotlib inline\n",
    "np.random.seed(1)"
   ]
  },
  {
   "cell_type": "markdown",
   "metadata": {},
   "source": [
    "<a name='1-1'></a>\n",
    "### 1.1 - Load the Data and Split the Data into Train/Test Sets\n",
    "\n",
    "You'll be using the Happy House dataset for this part of the assignment, which contains images of peoples' faces. Your task will be to build a ConvNet that determines whether the people in the images are smiling or not -- because they only get to enter the house if they're smiling!  "
   ]
  },
  {
   "cell_type": "code",
   "execution_count": 2,
   "metadata": {},
   "outputs": [
    {
     "name": "stdout",
     "output_type": "stream",
     "text": [
      "number of training examples = 600\n",
      "number of test examples = 150\n",
      "X_train shape: (600, 64, 64, 3)\n",
      "Y_train shape: (600, 1)\n",
      "X_test shape: (150, 64, 64, 3)\n",
      "Y_test shape: (150, 1)\n"
     ]
    }
   ],
   "source": [
    "X_train_orig, Y_train_orig, X_test_orig, Y_test_orig, classes = load_happy_dataset()\n",
    "\n",
    "# Normalize image vectors\n",
    "X_train = X_train_orig/255.\n",
    "X_test = X_test_orig/255.\n",
    "\n",
    "# Reshape\n",
    "Y_train = Y_train_orig.T\n",
    "Y_test = Y_test_orig.T\n",
    "\n",
    "print (\"number of training examples = \" + str(X_train.shape[0]))\n",
    "print (\"number of test examples = \" + str(X_test.shape[0]))\n",
    "print (\"X_train shape: \" + str(X_train.shape))\n",
    "print (\"Y_train shape: \" + str(Y_train.shape))\n",
    "print (\"X_test shape: \" + str(X_test.shape))\n",
    "print (\"Y_test shape: \" + str(Y_test.shape))"
   ]
  },
  {
   "cell_type": "markdown",
   "metadata": {},
   "source": [
    "You can display the images contained in the dataset. Images are **64x64** pixels in RGB format (3 channels)."
   ]
  },
  {
   "cell_type": "code",
   "execution_count": 3,
   "metadata": {},
   "outputs": [
    {
     "data": {
      "image/png": "[encoded data removed]",
      "text/plain": [
       "<Figure size 432x288 with 1 Axes>"
      ]
     },
     "metadata": {
      "needs_background": "light"
     },
     "output_type": "display_data"
    }
   ],
   "source": [
    "index = 124\n",
    "plt.imshow(X_train_orig[index]) #display sample training image\n",
    "plt.show()"
   ]
  },
  {
   "cell_type": "markdown",
   "metadata": {},
   "source": [
    "<a name='2'></a>\n",
    "## 2 - Layers in TF Keras \n",
    "\n",
    "In the previous assignment, you created layers manually in numpy. In TF Keras, you don't have to write code directly to create layers. Rather, TF Keras has pre-defined layers you can use. \n",
    "\n",
    "When you create a layer in TF Keras, you are creating a function that takes some input and transforms it into an output you can reuse later. Nice and easy! "
   ]
  },
  {
   "cell_type": "markdown",
   "metadata": {},
   "source": [
    "<a name='3'></a>\n",
    "## 3 - The Sequential API\n",
    "\n",
    "In the previous assignment, you built helper functions using `numpy` to understand the mechanics behind convolutional neural networks. Most practical applications of deep learning today are built using programming frameworks, which have many built-in functions you can simply call. Keras is a high-level abstraction built on top of TensorFlow, which allows for even more simplified and optimized model creation and training. \n",
    "\n",
    "For the first part of this assignment, you'll create a model using TF Keras' Sequential API, which allows you to build layer by layer, and is ideal for building models where each layer has **exactly one** input tensor and **one** output tensor. \n",
    "\n",
    "As you'll see, using the Sequential API is simple and straightforward, but is only appropriate for simpler, more straightforward tasks. Later in this notebook you'll spend some time building with a more flexible, powerful alternative: the Functional API. \n",
    " "
   ]
  },
  {
   "cell_type": "markdown",
   "metadata": {},
   "source": [
    "<a name='3-1'></a>\n",
    "### 3.1 - Create the Sequential Model\n",
    "\n",
    "As mentioned earlier, the TensorFlow Keras Sequential API can be used to build simple models with layer operations that proceed in a sequential order. \n",
    "\n",
    "You can also add layers incrementally to a Sequential model with the `.add()` method, or remove them using the `.pop()` method, much like you would in a regular Python list.\n",
    "\n",
    "Actually, you can think of a Sequential model as behaving like a list of layers. Like Python lists, Sequential layers are ordered, and the order in which they are specified matters.  If your model is non-linear or contains layers with multiple inputs or outputs, a Sequential model wouldn't be the right choice!\n",
    "\n",
    "For any layer construction in Keras, you'll need to specify the input shape in advance. This is because in Keras, the shape of the weights is based on the shape of the inputs. The weights are only created when the model first sees some input data. Sequential models can be created by passing a list of layers to the Sequential constructor, like you will do in the next assignment.\n",
    "\n",
    "<a name='ex-1'></a>\n",
    "### Exercise 1 - happyModel\n",
    "\n",
    "Implement the `happyModel` function below to build the following model: `ZEROPAD2D -> CONV2D -> BATCHNORM -> RELU -> MAXPOOL -> FLATTEN -> DENSE`. Take help from [tf.keras.layers](https://www.tensorflow.org/api_docs/python/tf/keras/layers) \n",
    "\n",
    "Also, plug in the following parameters for all the steps:\n",
    "\n",
    " - [ZeroPadding2D](https://www.tensorflow.org/api_docs/python/tf/keras/layers/ZeroPadding2D): padding 3, input shape 64 x 64 x 3\n",
    " - [Conv2D](https://www.tensorflow.org/api_docs/python/tf/keras/layers/Conv2D): Use 32 7x7 filters, stride 1\n",
    " - [BatchNormalization](https://www.tensorflow.org/api_docs/python/tf/keras/layers/BatchNormalization): for axis 3\n",
    " - [ReLU](https://www.tensorflow.org/api_docs/python/tf/keras/layers/ReLU)\n",
    " - [MaxPool2D](https://www.tensorflow.org/api_docs/python/tf/keras/layers/MaxPool2D): Using default parameters\n",
    " - [Flatten](https://www.tensorflow.org/api_docs/python/tf/keras/layers/Flatten) the previous output.\n",
    " - Fully-connected ([Dense](https://www.tensorflow.org/api_docs/python/tf/keras/layers/Dense)) layer: Apply a fully connected layer with 1 neuron and a sigmoid activation. \n",
    " \n",
    " \n",
    " **Hint:**\n",
    " \n",
    " Use **tfl** as shorthand for **tensorflow.keras.layers**"
   ]
  },
  {
   "cell_type": "code",
   "execution_count": 15,
   "metadata": {
    "deletable": false,
    "nbgrader": {
     "cell_type": "code",
     "checksum": "95d28b191f257bdd5b70c7b8952559d5",
     "grade": false,
     "grade_id": "cell-0e56d3fc28b69aec",
     "locked": false,
     "schema_version": 3,
     "solution": true,
     "task": false
    }
   },
   "outputs": [],
   "source": [
    "# GRADED FUNCTION: happyModel\n",
    "\n",
    "def happyModel():\n",
    "    \"\"\"\n",
    "    Implements the forward propagation for the binary classification model:\n",
    "    ZEROPAD2D -> CONV2D -> BATCHNORM -> RELU -> MAXPOOL -> FLATTEN -> DENSE\n",
    "    \n",
    "    Note that for simplicity and grading purposes, you'll hard-code all the values\n",
    "    such as the stride and kernel (filter) sizes. \n",
    "    Normally, functions should take these values as function parameters.\n",
    "    \n",
    "    Arguments:\n",
    "    None\n",
    "\n",
    "    Returns:\n",
    "    model -- TF Keras model (object containing the information for the entire training process) \n",
    "    \"\"\"\n",
    "    model = tf.keras.Sequential([\n",
    "            ## ZeroPadding2D() with padding 3, input shape of 64 x 64 x 3\n",
    "            tfl.ZeroPadding2D(padding = 3, input_shape = (64,64,3)),\n",
    "            ## Conv2D with 32 7x7 filters and stride of 1\n",
    "            tfl.Conv2D(32, 7, strides = (1,1)),\n",
    "            ## BatchNormalization for axis 3\n",
    "            tfl.BatchNormalization(axis = 3),\n",
    "            ## ReLU\n",
    "            tfl.ReLU(),\n",
    "            ## Max Pooling 2D with default parameters\n",
    "            tfl.MaxPool2D(),\n",
    "            ## Flatten layer\n",
    "            tfl.Flatten(),\n",
    "            ## Dense layer with 1 unit for output & 'sigmoid' activation\n",
    "            tfl.Dense(1, activation = 'sigmoid')\n",
    "        ])\n",
    "    \n",
    "    return model"
   ]
  },
  {
   "cell_type": "code",
   "execution_count": 16,
   "metadata": {
    "deletable": false,
    "editable": false,
    "nbgrader": {
     "cell_type": "code",
     "checksum": "8d3575c950e2e78149be2d05d671c80d",
     "grade": true,
     "grade_id": "cell-e3e1046e5c33d775",
     "locked": true,
     "points": 10,
     "schema_version": 3,
     "solution": false,
     "task": false
    }
   },
   "outputs": [
    {
     "name": "stdout",
     "output_type": "stream",
     "text": [
      "['ZeroPadding2D', (None, 70, 70, 3), 0, ((3, 3), (3, 3))]\n",
      "['Conv2D', (None, 64, 64, 32), 4736, 'valid', 'linear', 'GlorotUniform']\n",
      "['BatchNormalization', (None, 64, 64, 32), 128]\n",
      "['ReLU', (None, 64, 64, 32), 0]\n",
      "['MaxPooling2D', (None, 32, 32, 32), 0, (2, 2), (2, 2), 'valid']\n",
      "['Flatten', (None, 32768), 0]\n",
      "['Dense', (None, 1), 32769, 'sigmoid']\n",
      "\u001b[32mAll tests passed!\u001b[0m\n"
     ]
    }
   ],
   "source": [
    "happy_model = happyModel()\n",
    "# Print a summary for each layer\n",
    "for layer in summary(happy_model):\n",
    "    print(layer)\n",
    "    \n",
    "output = [['ZeroPadding2D', (None, 70, 70, 3), 0, ((3, 3), (3, 3))],\n",
    "            ['Conv2D', (None, 64, 64, 32), 4736, 'valid', 'linear', 'GlorotUniform'],\n",
    "            ['BatchNormalization', (None, 64, 64, 32), 128],\n",
    "            ['ReLU', (None, 64, 64, 32), 0],\n",
    "            ['MaxPooling2D', (None, 32, 32, 32), 0, (2, 2), (2, 2), 'valid'],\n",
    "            ['Flatten', (None, 32768), 0],\n",
    "            ['Dense', (None, 1), 32769, 'sigmoid']]\n",
    "    \n",
    "comparator(summary(happy_model), output)"
   ]
  },
  {
   "cell_type": "markdown",
   "metadata": {},
   "source": [
    "Now that your model is created, you can compile it for training with an optimizer and loss of your choice. When the string `accuracy` is specified as a metric, the type of accuracy used will be automatically converted based on the loss function used. This is one of the many optimizations built into TensorFlow that make your life easier! If you'd like to read more on how the compiler operates, check the docs [here](https://www.tensorflow.org/api_docs/python/tf/keras/Model#compile)."
   ]
  },
  {
   "cell_type": "code",
   "execution_count": 17,
   "metadata": {},
   "outputs": [],
   "source": [
    "happy_model.compile(optimizer='adam',\n",
    "                   loss='binary_crossentropy',\n",
    "                   metrics=['accuracy'])"
   ]
  },
  {
   "cell_type": "markdown",
   "metadata": {},
   "source": [
    "It's time to check your model's parameters with the `.summary()` method. This will display the types of layers you have, the shape of the outputs, and how many parameters are in each layer. "
   ]
  },
  {
   "cell_type": "code",
   "execution_count": 18,
   "metadata": {},
   "outputs": [
    {
     "name": "stdout",
     "output_type": "stream",
     "text": [
      "Model: \"sequential_3\"\n",
      "_________________________________________________________________\n",
      "Layer (type)                 Output Shape              Param #   \n",
      "=================================================================\n",
      "zero_padding2d_1 (ZeroPaddin (None, 70, 70, 3)         0         \n",
      "_________________________________________________________________\n",
      "conv2d (Conv2D)              (None, 64, 64, 32)        4736      \n",
      "_________________________________________________________________\n",
      "batch_normalization (BatchNo (None, 64, 64, 32)        128       \n",
      "_________________________________________________________________\n",
      "re_lu (ReLU)                 (None, 64, 64, 32)        0         \n",
      "_________________________________________________________________\n",
      "max_pooling2d (MaxPooling2D) (None, 32, 32, 32)        0         \n",
      "_________________________________________________________________\n",
      "flatten (Flatten)            (None, 32768)             0         \n",
      "_________________________________________________________________\n",
      "dense (Dense)                (None, 1)                 32769     \n",
      "=================================================================\n",
      "Total params: 37,633\n",
      "Trainable params: 37,569\n",
      "Non-trainable params: 64\n",
      "_________________________________________________________________\n"
     ]
    }
   ],
   "source": [
    "happy_model.summary()"
   ]
  },
  {
   "cell_type": "markdown",
   "metadata": {},
   "source": [
    "<a name='3-2'></a>\n",
    "### 3.2 - Train and Evaluate the Model\n",
    "\n",
    "After creating the model, compiling it with your choice of optimizer and loss function, and doing a sanity check on its contents, you are now ready to build! \n",
    "\n",
    "Simply call `.fit()` to train. That's it! No need for mini-batching, saving, or complex backpropagation computations. That's all been done for you, as you're using a TensorFlow dataset with the batches specified already. You do have the option to specify epoch number or minibatch size if you like (for example, in the case of an un-batched dataset)."
   ]
  },
  {
   "cell_type": "code",
   "execution_count": 19,
   "metadata": {},
   "outputs": [
    {
     "name": "stdout",
     "output_type": "stream",
     "text": [
      "Epoch 1/10\n",
      "38/38 [==============================] - 4s 105ms/step - loss: 1.0768 - accuracy: 0.6983\n",
      "Epoch 2/10\n",
      "38/38 [==============================] - 4s 98ms/step - loss: 0.2316 - accuracy: 0.9017\n",
      "Epoch 3/10\n",
      "38/38 [==============================] - 4s 98ms/step - loss: 0.1352 - accuracy: 0.9483\n",
      "Epoch 4/10\n",
      "38/38 [==============================] - 4s 97ms/step - loss: 0.0834 - accuracy: 0.9767\n",
      "Epoch 5/10\n",
      "38/38 [==============================] - 4s 100ms/step - loss: 0.0879 - accuracy: 0.9733\n",
      "Epoch 6/10\n",
      "38/38 [==============================] - 4s 97ms/step - loss: 0.0755 - accuracy: 0.9667\n",
      "Epoch 7/10\n",
      "38/38 [==============================] - 4s 100ms/step - loss: 0.0703 - accuracy: 0.9767\n",
      "Epoch 8/10\n",
      "38/38 [==============================] - 4s 97ms/step - loss: 0.1290 - accuracy: 0.9567\n",
      "Epoch 9/10\n",
      "38/38 [==============================] - 4s 95ms/step - loss: 0.0857 - accuracy: 0.9750\n",
      "Epoch 10/10\n",
      "38/38 [==============================] - 4s 97ms/step - loss: 0.0621 - accuracy: 0.9733\n"
     ]
    },
    {
     "data": {
      "text/plain": [
       "<tensorflow.python.keras.callbacks.History at 0x7f2b4c16d290>"
      ]
     },
     "execution_count": 19,
     "metadata": {},
     "output_type": "execute_result"
    }
   ],
   "source": [
    "happy_model.fit(X_train, Y_train, epochs=10, batch_size=16)"
   ]
  },
  {
   "cell_type": "markdown",
   "metadata": {},
   "source": [
    "After that completes, just use `.evaluate()` to evaluate against your test set. This function will print the value of the loss function and the performance metrics specified during the compilation of the model. In this case, the `binary_crossentropy` and the `accuracy` respectively."
   ]
  },
  {
   "cell_type": "code",
   "execution_count": 20,
   "metadata": {},
   "outputs": [
    {
     "name": "stdout",
     "output_type": "stream",
     "text": [
      "5/5 [==============================] - 0s 24ms/step - loss: 0.1340 - accuracy: 0.9667\n"
     ]
    },
    {
     "data": {
      "text/plain": [
       "[0.13403601944446564, 0.9666666388511658]"
      ]
     },
     "execution_count": 20,
     "metadata": {},
     "output_type": "execute_result"
    }
   ],
   "source": [
    "happy_model.evaluate(X_test, Y_test)"
   ]
  },
  {
   "cell_type": "markdown",
   "metadata": {},
   "source": [
    "Easy, right? But what if you need to build a model with shared layers, branches, or multiple inputs and outputs? This is where Sequential, with its beautifully simple yet limited functionality, won't be able to help you. \n",
    "\n",
    "Next up: Enter the Functional API, your slightly more complex, highly flexible friend.  "
   ]
  },
  {
   "cell_type": "markdown",
   "metadata": {},
   "source": [
    "<a name='4'></a>\n",
    "## 4 - The Functional API"
   ]
  },
  {
   "cell_type": "markdown",
   "metadata": {},
   "source": [
    "Welcome to the second half of the assignment, where you'll use Keras' flexible [Functional API](https://www.tensorflow.org/guide/keras/functional) to build a ConvNet that can differentiate between 6 sign language digits. \n",
    "\n",
    "The Functional API can handle models with non-linear topology, shared layers, as well as layers with multiple inputs or outputs. Imagine that, where the Sequential API requires the model to move in a linear fashion through its layers, the Functional API allows much more flexibility. Where Sequential is a straight line, a Functional model is a graph, where the nodes of the layers can connect in many more ways than one. \n",
    "\n",
    "In the visual example below, the one possible direction of the movement Sequential model is shown in contrast to a skip connection, which is just one of the many ways a Functional model can be constructed. A skip connection, as you might have guessed, skips some layer in the network and feeds the output to a later layer in the network. Don't worry, you'll be spending more time with skip connections very soon! "
   ]
  },
  {
   "cell_type": "markdown",
   "metadata": {},
   "source": [
    "<img src=\"images/seq_vs_func.png\" style=\"width:350px;height:200px;\">"
   ]
  },
  {
   "cell_type": "markdown",
   "metadata": {},
   "source": [
    "<a name='4-1'></a>\n",
    "### 4.1 - Load the SIGNS Dataset\n",
    "\n",
    "As a reminder, the SIGNS dataset is a collection of 6 signs representing numbers from 0 to 5."
   ]
  },
  {
   "cell_type": "code",
   "execution_count": 21,
   "metadata": {},
   "outputs": [],
   "source": [
    "# Loading the data (signs)\n",
    "X_train_orig, Y_train_orig, X_test_orig, Y_test_orig, classes = load_signs_dataset()"
   ]
  },
  {
   "cell_type": "markdown",
   "metadata": {},
   "source": [
    "<img src=\"images/SIGNS.png\" style=\"width:800px;height:300px;\">\n",
    "\n",
    "The next cell will show you an example of a labelled image in the dataset. Feel free to change the value of `index` below and re-run to see different examples. "
   ]
  },
  {
   "cell_type": "code",
   "execution_count": 23,
   "metadata": {},
   "outputs": [
    {
     "name": "stdout",
     "output_type": "stream",
     "text": [
      "y = 5\n"
     ]
    },
    {
     "data": {
      "image/png": "[encoded data removed]",
      "text/plain": [
       "<Figure size 432x288 with 1 Axes>"
      ]
     },
     "metadata": {
      "needs_background": "light"
     },
     "output_type": "display_data"
    }
   ],
   "source": [
    "# Example of an image from the dataset\n",
    "index = 12\n",
    "plt.imshow(X_train_orig[index])\n",
    "print (\"y = \" + str(np.squeeze(Y_train_orig[:, index])))"
   ]
  },
  {
   "cell_type": "markdown",
   "metadata": {},
   "source": [
    "<a name='4-2'></a>\n",
    "### 4.2 - Split the Data into Train/Test Sets\n",
    "\n",
    "In Course 2, you built a fully-connected network for this dataset. But since this is an image dataset, it is more natural to apply a ConvNet to it.\n",
    "\n",
    "To get started, let's examine the shapes of your data. "
   ]
  },
  {
   "cell_type": "code",
   "execution_count": 24,
   "metadata": {},
   "outputs": [
    {
     "name": "stdout",
     "output_type": "stream",
     "text": [
      "number of training examples = 1080\n",
      "number of test examples = 120\n",
      "X_train shape: (1080, 64, 64, 3)\n",
      "Y_train shape: (1080, 6)\n",
      "X_test shape: (120, 64, 64, 3)\n",
      "Y_test shape: (120, 6)\n"
     ]
    }
   ],
   "source": [
    "X_train = X_train_orig/255.\n",
    "X_test = X_test_orig/255.\n",
    "Y_train = convert_to_one_hot(Y_train_orig, 6).T\n",
    "Y_test = convert_to_one_hot(Y_test_orig, 6).T\n",
    "print (\"number of training examples = \" + str(X_train.shape[0]))\n",
    "print (\"number of test examples = \" + str(X_test.shape[0]))\n",
    "print (\"X_train shape: \" + str(X_train.shape))\n",
    "print (\"Y_train shape: \" + str(Y_train.shape))\n",
    "print (\"X_test shape: \" + str(X_test.shape))\n",
    "print (\"Y_test shape: \" + str(Y_test.shape))"
   ]
  },
  {
   "cell_type": "markdown",
   "metadata": {},
   "source": [
    "<a name='4-3'></a>\n",
    "### 4.3 - Forward Propagation\n",
    "\n",
    "In TensorFlow, there are built-in functions that implement the convolution steps for you. By now, you should be familiar with how TensorFlow builds computational graphs. In the [Functional API](https://www.tensorflow.org/guide/keras/functional), you create a graph of layers. This is what allows such great flexibility.\n",
    "\n",
    "However, the following model could also be defined using the Sequential API since the information flow is on a single line. But don't deviate. What we want you to learn is to use the functional API.\n",
    "\n",
    "Begin building your graph of layers by creating an input node that functions as a callable object:\n",
    "\n",
    "- **input_img = tf.keras.Input(shape=input_shape):** \n",
    "\n",
    "Then, create a new node in the graph of layers by calling a layer on the `input_img` object: \n",
    "\n",
    "- **tf.keras.layers.Conv2D(filters= ... , kernel_size= ... , padding='same')(input_img):** Read the full documentation on [Conv2D](https://www.tensorflow.org/api_docs/python/tf/keras/layers/Conv2D).\n",
    "\n",
    "- **tf.keras.layers.MaxPool2D(pool_size=(f, f), strides=(s, s), padding='same'):** `MaxPool2D()` downsamples your input using a window of size (f, f) and strides of size (s, s) to carry out max pooling over each window.  For max pooling, you usually operate on a single example at a time and a single channel at a time. Read the full documentation on [MaxPool2D](https://www.tensorflow.org/api_docs/python/tf/keras/layers/MaxPool2D).\n",
    "\n",
    "- **tf.keras.layers.ReLU():** computes the elementwise ReLU of Z (which can be any shape). You can read the full documentation on [ReLU](https://www.tensorflow.org/api_docs/python/tf/keras/layers/ReLU).\n",
    "\n",
    "- **tf.keras.layers.Flatten()**: given a tensor \"P\", this function takes each training (or test) example in the batch and flattens it into a 1D vector.  \n",
    "\n",
    "    * If a tensor P has the shape (batch_size,h,w,c), it returns a flattened tensor with shape (batch_size, k), where $k=h \\times w \\times c$.  \"k\" equals the product of all the dimension sizes other than the first dimension.\n",
    "    \n",
    "    * For example, given a tensor with dimensions [100, 2, 3, 4], it flattens the tensor to be of shape [100, 24], where 24 = 2 * 3 * 4.  You can read the full documentation on [Flatten](https://www.tensorflow.org/api_docs/python/tf/keras/layers/Flatten).\n",
    "\n",
    "- **tf.keras.layers.Dense(units= ... , activation='softmax')(F):** given the flattened input F, it returns the output computed using a fully connected layer. You can read the full documentation on [Dense](https://www.tensorflow.org/api_docs/python/tf/keras/layers/Dense).\n",
    "\n",
    "In the last function above (`tf.keras.layers.Dense()`), the fully connected layer automatically initializes weights in the graph and keeps on training them as you train the model. Hence, you did not need to initialize those weights when initializing the parameters.\n",
    "\n",
    "Lastly, before creating the model, you'll need to define the output using the last of the function's compositions (in this example, a Dense layer): \n",
    "\n",
    "- **outputs = tf.keras.layers.Dense(units=6, activation='softmax')(F)**\n",
    "\n",
    "\n",
    "#### Window, kernel, filter, pool\n",
    "\n",
    "The words \"kernel\" and \"filter\" are used to refer to the same thing. The word \"filter\" accounts for the amount of \"kernels\" that will be used in a single convolution layer. \"Pool\" is the name of the operation that takes the max or average value of the kernels. \n",
    "\n",
    "This is why the parameter `pool_size` refers to `kernel_size`, and you use `(f,f)` to refer to the filter size. \n",
    "\n",
    "Pool size and kernel size refer to the same thing in different objects - They refer to the shape of the window where the operation takes place. "
   ]
  },
  {
   "cell_type": "markdown",
   "metadata": {},
   "source": [
    "<a name='ex-2'></a>\n",
    "### Exercise 2 - convolutional_model\n",
    "\n",
    "Implement the `convolutional_model` function below to build the following model: `CONV2D -> RELU -> MAXPOOL -> CONV2D -> RELU -> MAXPOOL -> FLATTEN -> DENSE`. Use the functions above! \n",
    "\n",
    "Also, plug in the following parameters for all the steps:\n",
    "\n",
    " - [Conv2D](https://www.tensorflow.org/api_docs/python/tf/keras/layers/Conv2D): Use 8 4 by 4 filters, stride 1, padding is \"SAME\"\n",
    " - [ReLU](https://www.tensorflow.org/api_docs/python/tf/keras/layers/ReLU)\n",
    " - [MaxPool2D](https://www.tensorflow.org/api_docs/python/tf/keras/layers/MaxPool2D): Use an 8 by 8 filter size and an 8 by 8 stride, padding is \"SAME\"\n",
    " - **Conv2D**: Use 16 2 by 2 filters, stride 1, padding is \"SAME\"\n",
    " - **ReLU**\n",
    " - **MaxPool2D**: Use a 4 by 4 filter size and a 4 by 4 stride, padding is \"SAME\"\n",
    " - [Flatten](https://www.tensorflow.org/api_docs/python/tf/keras/layers/Flatten) the previous output.\n",
    " - Fully-connected ([Dense](https://www.tensorflow.org/api_docs/python/tf/keras/layers/Dense)) layer: Apply a fully connected layer with 6 neurons and a softmax activation. "
   ]
  },
  {
   "cell_type": "code",
   "execution_count": 29,
   "metadata": {
    "deletable": false,
    "nbgrader": {
     "cell_type": "code",
     "checksum": "f58643806aa8380c96225fc8b4c5e7aa",
     "grade": false,
     "grade_id": "cell-dac51744a9e03f51",
     "locked": false,
     "schema_version": 3,
     "solution": true,
     "task": false
    }
   },
   "outputs": [],
   "source": [
    "# GRADED FUNCTION: convolutional_model\n",
    "\n",
    "def convolutional_model(input_shape):\n",
    "    \"\"\"\n",
    "    Implements the forward propagation for the model:\n",
    "    CONV2D -> RELU -> MAXPOOL -> CONV2D -> RELU -> MAXPOOL -> FLATTEN -> DENSE\n",
    "    \n",
    "    Note that for simplicity and grading purposes, you'll hard-code some values\n",
    "    such as the stride and kernel (filter) sizes. \n",
    "    Normally, functions should take these values as function parameters.\n",
    "    \n",
    "    Arguments:\n",
    "    input_img -- input dataset, of shape (input_shape)\n",
    "\n",
    "    Returns:\n",
    "    model -- TF Keras model (object containing the information for the entire training process) \n",
    "    \"\"\"\n",
    "\n",
    "    input_img = tf.keras.Input(shape=input_shape)\n",
    "    ## CONV2D: 8 filters 4x4, stride of 1, padding 'SAME'\n",
    "    Z1 = tfl.Conv2D(8, kernel_size = (4,4), strides = (1,1), padding = 'same')(input_img)\n",
    "    ## RELU\n",
    "    A1 = tfl.ReLU()(Z1)\n",
    "    ## MAXPOOL: window 8x8, stride 8, padding 'SAME'\n",
    "    P1 = tfl.MaxPool2D(pool_size=(8, 8), strides=(8, 8), padding='same')(A1)\n",
    "    ## CONV2D: 16 filters 2x2, stride 1, padding 'SAME'\n",
    "    Z2 = tfl.Conv2D(16, kernel_size = (2,2), strides = (1,1), padding = 'same')(P1)\n",
    "    ## RELU\n",
    "    A2 = tfl.ReLU()(Z2)\n",
    "    ## MAXPOOL: window 4x4, stride 4, padding 'SAME'\n",
    "    P2 = tfl.MaxPool2D(pool_size=(4, 4), strides=(4, 4), padding='same')(A2)\n",
    "    ## FLATTEN\n",
    "    F = tfl.Flatten()(P2)\n",
    "    ## Dense layer\n",
    "    ## 6 neurons in output layer. Hint: one of the arguments should be \"activation='softmax'\" \n",
    "    outputs = tfl.Dense(units=6, activation='softmax')(F)\n",
    "    # YOUR CODE STARTS HERE\n",
    "    \n",
    "    \n",
    "    # YOUR CODE ENDS HERE\n",
    "    model = tf.keras.Model(inputs=input_img, outputs=outputs)\n",
    "    return model"
   ]
  },
  {
   "cell_type": "code",
   "execution_count": 30,
   "metadata": {
    "deletable": false,
    "editable": false,
    "nbgrader": {
     "cell_type": "code",
     "checksum": "483d626949930a0b0ef20997e7c6ba72",
     "grade": true,
     "grade_id": "cell-45d22e92042174c9",
     "locked": true,
     "points": 10,
     "schema_version": 3,
     "solution": false,
     "task": false
    }
   },
   "outputs": [
    {
     "name": "stdout",
     "output_type": "stream",
     "text": [
      "Model: \"functional_3\"\n",
      "_________________________________________________________________\n",
      "Layer (type)                 Output Shape              Param #   \n",
      "=================================================================\n",
      "input_3 (InputLayer)         [(None, 64, 64, 3)]       0         \n",
      "_________________________________________________________________\n",
      "conv2d_4 (Conv2D)            (None, 64, 64, 8)         392       \n",
      "_________________________________________________________________\n",
      "re_lu_3 (ReLU)               (None, 64, 64, 8)         0         \n",
      "_________________________________________________________________\n",
      "max_pooling2d_3 (MaxPooling2 (None, 8, 8, 8)           0         \n",
      "_________________________________________________________________\n",
      "conv2d_5 (Conv2D)            (None, 8, 8, 16)          528       \n",
      "_________________________________________________________________\n",
      "re_lu_4 (ReLU)               (None, 8, 8, 16)          0         \n",
      "_________________________________________________________________\n",
      "max_pooling2d_4 (MaxPooling2 (None, 2, 2, 16)          0         \n",
      "_________________________________________________________________\n",
      "flatten_2 (Flatten)          (None, 64)                0         \n",
      "_________________________________________________________________\n",
      "dense_2 (Dense)              (None, 6)                 390       \n",
      "=================================================================\n",
      "Total params: 1,310\n",
      "Trainable params: 1,310\n",
      "Non-trainable params: 0\n",
      "_________________________________________________________________\n",
      "\u001b[32mAll tests passed!\u001b[0m\n"
     ]
    }
   ],
   "source": [
    "conv_model = convolutional_model((64, 64, 3))\n",
    "conv_model.compile(optimizer='adam',\n",
    "                  loss='categorical_crossentropy',\n",
    "                  metrics=['accuracy'])\n",
    "conv_model.summary()\n",
    "    \n",
    "output = [['InputLayer', [(None, 64, 64, 3)], 0],\n",
    "        ['Conv2D', (None, 64, 64, 8), 392, 'same', 'linear', 'GlorotUniform'],\n",
    "        ['ReLU', (None, 64, 64, 8), 0],\n",
    "        ['MaxPooling2D', (None, 8, 8, 8), 0, (8, 8), (8, 8), 'same'],\n",
    "        ['Conv2D', (None, 8, 8, 16), 528, 'same', 'linear', 'GlorotUniform'],\n",
    "        ['ReLU', (None, 8, 8, 16), 0],\n",
    "        ['MaxPooling2D', (None, 2, 2, 16), 0, (4, 4), (4, 4), 'same'],\n",
    "        ['Flatten', (None, 64), 0],\n",
    "        ['Dense', (None, 6), 390, 'softmax']]\n",
    "    \n",
    "comparator(summary(conv_model), output)"
   ]
  },
  {
   "cell_type": "markdown",
   "metadata": {},
   "source": [
    "Both the Sequential and Functional APIs return a TF Keras model object. The only difference is how inputs are handled inside the object model! "
   ]
  },
  {
   "cell_type": "markdown",
   "metadata": {},
   "source": [
    "<a name='4-4'></a>\n",
    "### 4.4 - Train the Model"
   ]
  },
  {
   "cell_type": "code",
   "execution_count": 31,
   "metadata": {},
   "outputs": [
    {
     "name": "stdout",
     "output_type": "stream",
     "text": [
      "Epoch 1/100\n",
      "17/17 [==============================] - 2s 106ms/step - loss: 1.7895 - accuracy: 0.2157 - val_loss: 1.7845 - val_accuracy: 0.1917\n",
      "Epoch 2/100\n",
      "17/17 [==============================] - 2s 106ms/step - loss: 1.7802 - accuracy: 0.2333 - val_loss: 1.7769 - val_accuracy: 0.2667\n",
      "Epoch 3/100\n",
      "17/17 [==============================] - 2s 106ms/step - loss: 1.7716 - accuracy: 0.3000 - val_loss: 1.7698 - val_accuracy: 0.2833\n",
      "Epoch 4/100\n",
      "17/17 [==============================] - 2s 106ms/step - loss: 1.7619 - accuracy: 0.3204 - val_loss: 1.7582 - val_accuracy: 0.2917\n",
      "Epoch 5/100\n",
      "17/17 [==============================] - 2s 100ms/step - loss: 1.7492 - accuracy: 0.3269 - val_loss: 1.7460 - val_accuracy: 0.3333\n",
      "Epoch 6/100\n",
      "17/17 [==============================] - 2s 100ms/step - loss: 1.7326 - accuracy: 0.3787 - val_loss: 1.7304 - val_accuracy: 0.3833\n",
      "Epoch 7/100\n",
      "17/17 [==============================] - 2s 106ms/step - loss: 1.7124 - accuracy: 0.4157 - val_loss: 1.7109 - val_accuracy: 0.4000\n",
      "Epoch 8/100\n",
      "17/17 [==============================] - 2s 106ms/step - loss: 1.6872 - accuracy: 0.4454 - val_loss: 1.6890 - val_accuracy: 0.4167\n",
      "Epoch 9/100\n",
      "17/17 [==============================] - 2s 106ms/step - loss: 1.6571 - accuracy: 0.4620 - val_loss: 1.6641 - val_accuracy: 0.4167\n",
      "Epoch 10/100\n",
      "17/17 [==============================] - 2s 106ms/step - loss: 1.6219 - accuracy: 0.4694 - val_loss: 1.6349 - val_accuracy: 0.3917\n",
      "Epoch 11/100\n",
      "17/17 [==============================] - 2s 106ms/step - loss: 1.5824 - accuracy: 0.4676 - val_loss: 1.6048 - val_accuracy: 0.3667\n",
      "Epoch 12/100\n",
      "17/17 [==============================] - 2s 106ms/step - loss: 1.5411 - accuracy: 0.4620 - val_loss: 1.5688 - val_accuracy: 0.3583\n",
      "Epoch 13/100\n",
      "17/17 [==============================] - 2s 106ms/step - loss: 1.4936 - accuracy: 0.4880 - val_loss: 1.5331 - val_accuracy: 0.3833\n",
      "Epoch 14/100\n",
      "17/17 [==============================] - 2s 106ms/step - loss: 1.4460 - accuracy: 0.4981 - val_loss: 1.4933 - val_accuracy: 0.3917\n",
      "Epoch 15/100\n",
      "17/17 [==============================] - 2s 106ms/step - loss: 1.3981 - accuracy: 0.5120 - val_loss: 1.4494 - val_accuracy: 0.4167\n",
      "Epoch 16/100\n",
      "17/17 [==============================] - 2s 106ms/step - loss: 1.3511 - accuracy: 0.5315 - val_loss: 1.4079 - val_accuracy: 0.4417\n",
      "Epoch 17/100\n",
      "17/17 [==============================] - 2s 106ms/step - loss: 1.3103 - accuracy: 0.5435 - val_loss: 1.3700 - val_accuracy: 0.4250\n",
      "Epoch 18/100\n",
      "17/17 [==============================] - 2s 106ms/step - loss: 1.2723 - accuracy: 0.5500 - val_loss: 1.3367 - val_accuracy: 0.4417\n",
      "Epoch 19/100\n",
      "17/17 [==============================] - 2s 106ms/step - loss: 1.2380 - accuracy: 0.5676 - val_loss: 1.3034 - val_accuracy: 0.4833\n",
      "Epoch 20/100\n",
      "17/17 [==============================] - 2s 101ms/step - loss: 1.2050 - accuracy: 0.5722 - val_loss: 1.2688 - val_accuracy: 0.4917\n",
      "Epoch 21/100\n",
      "17/17 [==============================] - 2s 106ms/step - loss: 1.1755 - accuracy: 0.5824 - val_loss: 1.2448 - val_accuracy: 0.5083\n",
      "Epoch 22/100\n",
      "17/17 [==============================] - 2s 106ms/step - loss: 1.1482 - accuracy: 0.5926 - val_loss: 1.2151 - val_accuracy: 0.5167\n",
      "Epoch 23/100\n",
      "17/17 [==============================] - 2s 106ms/step - loss: 1.1211 - accuracy: 0.5981 - val_loss: 1.1913 - val_accuracy: 0.5333\n",
      "Epoch 24/100\n",
      "17/17 [==============================] - 2s 106ms/step - loss: 1.0967 - accuracy: 0.6093 - val_loss: 1.1670 - val_accuracy: 0.5417\n",
      "Epoch 25/100\n",
      "17/17 [==============================] - 2s 106ms/step - loss: 1.0721 - accuracy: 0.6148 - val_loss: 1.1428 - val_accuracy: 0.5500\n",
      "Epoch 26/100\n",
      "17/17 [==============================] - 2s 106ms/step - loss: 1.0510 - accuracy: 0.6324 - val_loss: 1.1201 - val_accuracy: 0.5500\n",
      "Epoch 27/100\n",
      "17/17 [==============================] - 2s 106ms/step - loss: 1.0315 - accuracy: 0.6398 - val_loss: 1.0999 - val_accuracy: 0.5417\n",
      "Epoch 28/100\n",
      "17/17 [==============================] - 2s 111ms/step - loss: 1.0114 - accuracy: 0.6491 - val_loss: 1.0818 - val_accuracy: 0.5333\n",
      "Epoch 29/100\n",
      "17/17 [==============================] - 2s 106ms/step - loss: 0.9905 - accuracy: 0.6583 - val_loss: 1.0632 - val_accuracy: 0.5417\n",
      "Epoch 30/100\n",
      "17/17 [==============================] - 2s 106ms/step - loss: 0.9711 - accuracy: 0.6620 - val_loss: 1.0435 - val_accuracy: 0.5500\n",
      "Epoch 31/100\n",
      "17/17 [==============================] - 2s 106ms/step - loss: 0.9528 - accuracy: 0.6731 - val_loss: 1.0246 - val_accuracy: 0.5667\n",
      "Epoch 32/100\n",
      "17/17 [==============================] - 2s 106ms/step - loss: 0.9380 - accuracy: 0.6861 - val_loss: 1.0102 - val_accuracy: 0.5750\n",
      "Epoch 33/100\n",
      "17/17 [==============================] - 2s 106ms/step - loss: 0.9208 - accuracy: 0.6880 - val_loss: 0.9955 - val_accuracy: 0.5833\n",
      "Epoch 34/100\n",
      "17/17 [==============================] - 2s 100ms/step - loss: 0.9033 - accuracy: 0.6981 - val_loss: 0.9810 - val_accuracy: 0.5917\n",
      "Epoch 35/100\n",
      "17/17 [==============================] - 2s 106ms/step - loss: 0.8865 - accuracy: 0.7083 - val_loss: 0.9660 - val_accuracy: 0.6000\n",
      "Epoch 36/100\n",
      "17/17 [==============================] - 2s 106ms/step - loss: 0.8734 - accuracy: 0.7130 - val_loss: 0.9549 - val_accuracy: 0.6083\n",
      "Epoch 37/100\n",
      "17/17 [==============================] - 2s 101ms/step - loss: 0.8591 - accuracy: 0.7120 - val_loss: 0.9415 - val_accuracy: 0.6000\n",
      "Epoch 38/100\n",
      "17/17 [==============================] - 2s 106ms/step - loss: 0.8477 - accuracy: 0.7167 - val_loss: 0.9321 - val_accuracy: 0.6167\n",
      "Epoch 39/100\n",
      "17/17 [==============================] - 2s 106ms/step - loss: 0.8335 - accuracy: 0.7250 - val_loss: 0.9200 - val_accuracy: 0.6083\n",
      "Epoch 40/100\n",
      "17/17 [==============================] - 2s 101ms/step - loss: 0.8224 - accuracy: 0.7250 - val_loss: 0.9110 - val_accuracy: 0.6167\n",
      "Epoch 41/100\n",
      "17/17 [==============================] - 2s 106ms/step - loss: 0.8089 - accuracy: 0.7333 - val_loss: 0.8987 - val_accuracy: 0.6167\n",
      "Epoch 42/100\n",
      "17/17 [==============================] - 2s 106ms/step - loss: 0.7993 - accuracy: 0.7370 - val_loss: 0.8909 - val_accuracy: 0.6333\n",
      "Epoch 43/100\n",
      "17/17 [==============================] - 2s 106ms/step - loss: 0.7867 - accuracy: 0.7435 - val_loss: 0.8814 - val_accuracy: 0.6333\n",
      "Epoch 44/100\n",
      "17/17 [==============================] - 2s 106ms/step - loss: 0.7738 - accuracy: 0.7481 - val_loss: 0.8715 - val_accuracy: 0.6417\n",
      "Epoch 45/100\n",
      "17/17 [==============================] - 2s 106ms/step - loss: 0.7626 - accuracy: 0.7546 - val_loss: 0.8614 - val_accuracy: 0.6500\n",
      "Epoch 46/100\n",
      "17/17 [==============================] - 2s 105ms/step - loss: 0.7551 - accuracy: 0.7491 - val_loss: 0.8539 - val_accuracy: 0.6417\n",
      "Epoch 47/100\n",
      "17/17 [==============================] - 2s 106ms/step - loss: 0.7438 - accuracy: 0.7593 - val_loss: 0.8451 - val_accuracy: 0.6500\n",
      "Epoch 48/100\n",
      "17/17 [==============================] - 2s 106ms/step - loss: 0.7332 - accuracy: 0.7685 - val_loss: 0.8372 - val_accuracy: 0.6500\n",
      "Epoch 49/100\n",
      "17/17 [==============================] - 2s 106ms/step - loss: 0.7227 - accuracy: 0.7704 - val_loss: 0.8282 - val_accuracy: 0.6500\n",
      "Epoch 50/100\n",
      "17/17 [==============================] - 2s 106ms/step - loss: 0.7155 - accuracy: 0.7704 - val_loss: 0.8216 - val_accuracy: 0.6417\n",
      "Epoch 51/100\n",
      "17/17 [==============================] - 2s 106ms/step - loss: 0.7044 - accuracy: 0.7759 - val_loss: 0.8128 - val_accuracy: 0.6583\n",
      "Epoch 52/100\n",
      "17/17 [==============================] - 2s 106ms/step - loss: 0.6971 - accuracy: 0.7759 - val_loss: 0.8062 - val_accuracy: 0.6417\n",
      "Epoch 53/100\n",
      "17/17 [==============================] - 2s 106ms/step - loss: 0.6863 - accuracy: 0.7815 - val_loss: 0.7978 - val_accuracy: 0.6583\n",
      "Epoch 54/100\n",
      "17/17 [==============================] - 2s 107ms/step - loss: 0.6774 - accuracy: 0.7870 - val_loss: 0.7912 - val_accuracy: 0.6583\n",
      "Epoch 55/100\n",
      "17/17 [==============================] - 2s 106ms/step - loss: 0.6680 - accuracy: 0.7944 - val_loss: 0.7837 - val_accuracy: 0.6667\n",
      "Epoch 56/100\n",
      "17/17 [==============================] - 2s 107ms/step - loss: 0.6615 - accuracy: 0.7907 - val_loss: 0.7777 - val_accuracy: 0.6667\n",
      "Epoch 57/100\n",
      "17/17 [==============================] - 2s 106ms/step - loss: 0.6525 - accuracy: 0.7972 - val_loss: 0.7704 - val_accuracy: 0.6750\n",
      "Epoch 58/100\n",
      "17/17 [==============================] - 2s 106ms/step - loss: 0.6445 - accuracy: 0.7972 - val_loss: 0.7645 - val_accuracy: 0.6667\n",
      "Epoch 59/100\n",
      "17/17 [==============================] - 2s 106ms/step - loss: 0.6358 - accuracy: 0.8037 - val_loss: 0.7579 - val_accuracy: 0.6917\n",
      "Epoch 60/100\n",
      "17/17 [==============================] - 2s 106ms/step - loss: 0.6292 - accuracy: 0.8065 - val_loss: 0.7527 - val_accuracy: 0.6667\n",
      "Epoch 61/100\n",
      "17/17 [==============================] - 2s 106ms/step - loss: 0.6212 - accuracy: 0.8111 - val_loss: 0.7463 - val_accuracy: 0.6917\n",
      "Epoch 62/100\n",
      "17/17 [==============================] - 2s 106ms/step - loss: 0.6138 - accuracy: 0.8120 - val_loss: 0.7411 - val_accuracy: 0.6917\n",
      "Epoch 63/100\n",
      "17/17 [==============================] - 2s 106ms/step - loss: 0.6062 - accuracy: 0.8148 - val_loss: 0.7352 - val_accuracy: 0.7000\n",
      "Epoch 64/100\n",
      "17/17 [==============================] - 2s 106ms/step - loss: 0.5999 - accuracy: 0.8167 - val_loss: 0.7300 - val_accuracy: 0.7083\n",
      "Epoch 65/100\n",
      "17/17 [==============================] - 2s 106ms/step - loss: 0.5922 - accuracy: 0.8222 - val_loss: 0.7244 - val_accuracy: 0.7250\n",
      "Epoch 66/100\n",
      "17/17 [==============================] - 2s 100ms/step - loss: 0.5855 - accuracy: 0.8213 - val_loss: 0.7195 - val_accuracy: 0.7083\n",
      "Epoch 67/100\n",
      "17/17 [==============================] - 2s 101ms/step - loss: 0.5787 - accuracy: 0.8287 - val_loss: 0.7147 - val_accuracy: 0.7250\n",
      "Epoch 68/100\n",
      "17/17 [==============================] - 2s 101ms/step - loss: 0.5725 - accuracy: 0.8269 - val_loss: 0.7098 - val_accuracy: 0.7167\n",
      "Epoch 69/100\n",
      "17/17 [==============================] - 2s 106ms/step - loss: 0.5657 - accuracy: 0.8324 - val_loss: 0.7052 - val_accuracy: 0.7500\n",
      "Epoch 70/100\n",
      "17/17 [==============================] - 2s 100ms/step - loss: 0.5600 - accuracy: 0.8324 - val_loss: 0.7003 - val_accuracy: 0.7333\n",
      "Epoch 71/100\n",
      "17/17 [==============================] - 2s 106ms/step - loss: 0.5534 - accuracy: 0.8361 - val_loss: 0.6961 - val_accuracy: 0.7583\n",
      "Epoch 72/100\n",
      "17/17 [==============================] - 2s 106ms/step - loss: 0.5478 - accuracy: 0.8343 - val_loss: 0.6919 - val_accuracy: 0.7417\n",
      "Epoch 73/100\n",
      "17/17 [==============================] - 2s 106ms/step - loss: 0.5413 - accuracy: 0.8435 - val_loss: 0.6874 - val_accuracy: 0.7667\n",
      "Epoch 74/100\n",
      "17/17 [==============================] - 2s 106ms/step - loss: 0.5362 - accuracy: 0.8426 - val_loss: 0.6836 - val_accuracy: 0.7583\n",
      "Epoch 75/100\n",
      "17/17 [==============================] - 2s 107ms/step - loss: 0.5300 - accuracy: 0.8444 - val_loss: 0.6795 - val_accuracy: 0.7667\n",
      "Epoch 76/100\n",
      "17/17 [==============================] - 2s 106ms/step - loss: 0.5246 - accuracy: 0.8463 - val_loss: 0.6759 - val_accuracy: 0.7667\n",
      "Epoch 77/100\n",
      "17/17 [==============================] - 2s 106ms/step - loss: 0.5187 - accuracy: 0.8444 - val_loss: 0.6719 - val_accuracy: 0.7667\n",
      "Epoch 78/100\n",
      "17/17 [==============================] - 2s 100ms/step - loss: 0.5134 - accuracy: 0.8491 - val_loss: 0.6684 - val_accuracy: 0.7667\n",
      "Epoch 79/100\n",
      "17/17 [==============================] - 2s 106ms/step - loss: 0.5079 - accuracy: 0.8491 - val_loss: 0.6642 - val_accuracy: 0.7667\n",
      "Epoch 80/100\n",
      "17/17 [==============================] - 2s 106ms/step - loss: 0.5029 - accuracy: 0.8491 - val_loss: 0.6607 - val_accuracy: 0.7667\n",
      "Epoch 81/100\n",
      "17/17 [==============================] - 2s 107ms/step - loss: 0.4975 - accuracy: 0.8491 - val_loss: 0.6572 - val_accuracy: 0.7667\n",
      "Epoch 82/100\n",
      "17/17 [==============================] - 2s 106ms/step - loss: 0.4926 - accuracy: 0.8500 - val_loss: 0.6538 - val_accuracy: 0.7667\n",
      "Epoch 83/100\n",
      "17/17 [==============================] - 2s 106ms/step - loss: 0.4874 - accuracy: 0.8509 - val_loss: 0.6507 - val_accuracy: 0.7667\n",
      "Epoch 84/100\n",
      "17/17 [==============================] - 2s 107ms/step - loss: 0.4819 - accuracy: 0.8546 - val_loss: 0.6474 - val_accuracy: 0.7667\n",
      "Epoch 85/100\n",
      "17/17 [==============================] - 2s 100ms/step - loss: 0.4769 - accuracy: 0.8519 - val_loss: 0.6444 - val_accuracy: 0.7667\n",
      "Epoch 86/100\n",
      "17/17 [==============================] - 2s 106ms/step - loss: 0.4726 - accuracy: 0.8537 - val_loss: 0.6417 - val_accuracy: 0.7583\n",
      "Epoch 87/100\n",
      "17/17 [==============================] - 2s 101ms/step - loss: 0.4676 - accuracy: 0.8556 - val_loss: 0.6383 - val_accuracy: 0.7667\n",
      "Epoch 88/100\n",
      "17/17 [==============================] - 2s 106ms/step - loss: 0.4623 - accuracy: 0.8574 - val_loss: 0.6355 - val_accuracy: 0.7667\n",
      "Epoch 89/100\n",
      "17/17 [==============================] - 2s 111ms/step - loss: 0.4580 - accuracy: 0.8602 - val_loss: 0.6317 - val_accuracy: 0.7667\n",
      "Epoch 90/100\n",
      "17/17 [==============================] - 2s 106ms/step - loss: 0.4531 - accuracy: 0.8620 - val_loss: 0.6285 - val_accuracy: 0.7750\n",
      "Epoch 91/100\n",
      "17/17 [==============================] - 2s 106ms/step - loss: 0.4490 - accuracy: 0.8630 - val_loss: 0.6248 - val_accuracy: 0.7833\n",
      "Epoch 92/100\n",
      "17/17 [==============================] - 2s 106ms/step - loss: 0.4441 - accuracy: 0.8630 - val_loss: 0.6216 - val_accuracy: 0.7833\n",
      "Epoch 93/100\n",
      "17/17 [==============================] - 2s 106ms/step - loss: 0.4405 - accuracy: 0.8639 - val_loss: 0.6180 - val_accuracy: 0.7833\n",
      "Epoch 94/100\n",
      "17/17 [==============================] - 2s 106ms/step - loss: 0.4361 - accuracy: 0.8639 - val_loss: 0.6153 - val_accuracy: 0.7833\n",
      "Epoch 95/100\n",
      "17/17 [==============================] - 2s 101ms/step - loss: 0.4322 - accuracy: 0.8685 - val_loss: 0.6122 - val_accuracy: 0.7833\n",
      "Epoch 96/100\n",
      "17/17 [==============================] - 2s 106ms/step - loss: 0.4279 - accuracy: 0.8685 - val_loss: 0.6093 - val_accuracy: 0.7833\n",
      "Epoch 97/100\n",
      "17/17 [==============================] - 2s 106ms/step - loss: 0.4241 - accuracy: 0.8685 - val_loss: 0.6065 - val_accuracy: 0.7833\n",
      "Epoch 98/100\n",
      "17/17 [==============================] - 2s 106ms/step - loss: 0.4204 - accuracy: 0.8713 - val_loss: 0.6036 - val_accuracy: 0.7833\n",
      "Epoch 99/100\n",
      "17/17 [==============================] - 2s 106ms/step - loss: 0.4168 - accuracy: 0.8704 - val_loss: 0.6007 - val_accuracy: 0.7833\n",
      "Epoch 100/100\n",
      "17/17 [==============================] - 2s 105ms/step - loss: 0.4128 - accuracy: 0.8722 - val_loss: 0.5976 - val_accuracy: 0.7833\n"
     ]
    }
   ],
   "source": [
    "train_dataset = tf.data.Dataset.from_tensor_slices((X_train, Y_train)).batch(64)\n",
    "test_dataset = tf.data.Dataset.from_tensor_slices((X_test, Y_test)).batch(64)\n",
    "history = conv_model.fit(train_dataset, epochs=100, validation_data=test_dataset)"
   ]
  },
  {
   "cell_type": "markdown",
   "metadata": {},
   "source": [
    "<a name='5'></a>\n",
    "## 5 - History Object \n",
    "\n",
    "The history object is an output of the `.fit()` operation, and provides a record of all the loss and metric values in memory. It's stored as a dictionary that you can retrieve at `history.history`: "
   ]
  },
  {
   "cell_type": "code",
   "execution_count": 32,
   "metadata": {},
   "outputs": [
    {
     "data": {
      "text/plain": [
       "{'loss': [1.789458155632019,\n",
       "  1.780168056488037,\n",
       "  1.7716268301010132,\n",
       "  1.7618839740753174,\n",
       "  1.7492411136627197,\n",
       "  1.7326215505599976,\n",
       "  1.7123512029647827,\n",
       "  1.6872434616088867,\n",
       "  1.657075047492981,\n",
       "  1.621921181678772,\n",
       "  1.5823581218719482,\n",
       "  1.5410561561584473,\n",
       "  1.4936158657073975,\n",
       "  1.4459822177886963,\n",
       "  1.3981428146362305,\n",
       "  1.35105562210083,\n",
       "  1.3102909326553345,\n",
       "  1.2723388671875,\n",
       "  1.237991213798523,\n",
       "  1.2050026655197144,\n",
       "  1.175498127937317,\n",
       "  1.1481562852859497,\n",
       "  1.1210604906082153,\n",
       "  1.0966856479644775,\n",
       "  1.072129249572754,\n",
       "  1.0510475635528564,\n",
       "  1.0315145254135132,\n",
       "  1.0113521814346313,\n",
       "  0.9905374050140381,\n",
       "  0.9711282253265381,\n",
       "  0.9528220891952515,\n",
       "  0.9380216002464294,\n",
       "  0.9207634925842285,\n",
       "  0.9033392667770386,\n",
       "  0.8864911794662476,\n",
       "  0.873365044593811,\n",
       "  0.8591445088386536,\n",
       "  0.8476606607437134,\n",
       "  0.833467423915863,\n",
       "  0.8224431872367859,\n",
       "  0.8088837265968323,\n",
       "  0.7992599606513977,\n",
       "  0.7866878509521484,\n",
       "  0.7737905979156494,\n",
       "  0.7625804543495178,\n",
       "  0.7550592422485352,\n",
       "  0.743813693523407,\n",
       "  0.7332322597503662,\n",
       "  0.7227145433425903,\n",
       "  0.7155225872993469,\n",
       "  0.7044057846069336,\n",
       "  0.6970909237861633,\n",
       "  0.686279833316803,\n",
       "  0.6774400472640991,\n",
       "  0.6680468320846558,\n",
       "  0.661548912525177,\n",
       "  0.6524727940559387,\n",
       "  0.6444631814956665,\n",
       "  0.6358018517494202,\n",
       "  0.6292408108711243,\n",
       "  0.6212275624275208,\n",
       "  0.6138012409210205,\n",
       "  0.6062479019165039,\n",
       "  0.5999164581298828,\n",
       "  0.5921945571899414,\n",
       "  0.5854675769805908,\n",
       "  0.5787040591239929,\n",
       "  0.572540819644928,\n",
       "  0.5657426714897156,\n",
       "  0.5600283145904541,\n",
       "  0.5534442663192749,\n",
       "  0.5478218197822571,\n",
       "  0.5412726402282715,\n",
       "  0.5362235307693481,\n",
       "  0.5299588441848755,\n",
       "  0.5246084928512573,\n",
       "  0.5187290906906128,\n",
       "  0.5134036540985107,\n",
       "  0.5079318284988403,\n",
       "  0.502924382686615,\n",
       "  0.4974864721298218,\n",
       "  0.4925682246685028,\n",
       "  0.4873823821544647,\n",
       "  0.4818620979785919,\n",
       "  0.4768889248371124,\n",
       "  0.4726201593875885,\n",
       "  0.4676162302494049,\n",
       "  0.4623000919818878,\n",
       "  0.4579768478870392,\n",
       "  0.45305413007736206,\n",
       "  0.44901907444000244,\n",
       "  0.44410431385040283,\n",
       "  0.44051995873451233,\n",
       "  0.43609675765037537,\n",
       "  0.43224668502807617,\n",
       "  0.42789822816848755,\n",
       "  0.4240871071815491,\n",
       "  0.42037808895111084,\n",
       "  0.4167768359184265,\n",
       "  0.41278061270713806],\n",
       " 'accuracy': [0.21574074029922485,\n",
       "  0.23333333432674408,\n",
       "  0.30000001192092896,\n",
       "  0.3203703761100769,\n",
       "  0.32685184478759766,\n",
       "  0.3787037134170532,\n",
       "  0.4157407283782959,\n",
       "  0.4453703761100769,\n",
       "  0.46203702688217163,\n",
       "  0.4694444537162781,\n",
       "  0.46759259700775146,\n",
       "  0.46203702688217163,\n",
       "  0.4879629611968994,\n",
       "  0.4981481432914734,\n",
       "  0.5120370388031006,\n",
       "  0.5314815044403076,\n",
       "  0.5435185432434082,\n",
       "  0.550000011920929,\n",
       "  0.5675926208496094,\n",
       "  0.5722222328186035,\n",
       "  0.5824074149131775,\n",
       "  0.5925925970077515,\n",
       "  0.5981481671333313,\n",
       "  0.6092592477798462,\n",
       "  0.614814817905426,\n",
       "  0.6324074268341064,\n",
       "  0.6398147940635681,\n",
       "  0.6490740776062012,\n",
       "  0.6583333611488342,\n",
       "  0.6620370149612427,\n",
       "  0.6731481552124023,\n",
       "  0.6861110925674438,\n",
       "  0.6879629492759705,\n",
       "  0.6981481313705444,\n",
       "  0.7083333134651184,\n",
       "  0.7129629850387573,\n",
       "  0.7120370268821716,\n",
       "  0.7166666388511658,\n",
       "  0.7250000238418579,\n",
       "  0.7250000238418579,\n",
       "  0.7333333492279053,\n",
       "  0.7370370626449585,\n",
       "  0.7435185313224792,\n",
       "  0.7481481432914734,\n",
       "  0.7546296119689941,\n",
       "  0.7490741014480591,\n",
       "  0.7592592835426331,\n",
       "  0.7685185074806213,\n",
       "  0.770370364189148,\n",
       "  0.770370364189148,\n",
       "  0.7759259343147278,\n",
       "  0.7759259343147278,\n",
       "  0.7814815044403076,\n",
       "  0.7870370149612427,\n",
       "  0.7944444417953491,\n",
       "  0.7907407283782959,\n",
       "  0.7972221970558167,\n",
       "  0.7972221970558167,\n",
       "  0.8037037253379822,\n",
       "  0.8064814805984497,\n",
       "  0.8111110925674438,\n",
       "  0.8120370507240295,\n",
       "  0.8148148059844971,\n",
       "  0.8166666626930237,\n",
       "  0.8222222328186035,\n",
       "  0.8212962746620178,\n",
       "  0.8287037014961243,\n",
       "  0.8268518447875977,\n",
       "  0.8324074149131775,\n",
       "  0.8324074149131775,\n",
       "  0.8361111283302307,\n",
       "  0.8342592716217041,\n",
       "  0.8435184955596924,\n",
       "  0.8425925970077515,\n",
       "  0.8444444537162781,\n",
       "  0.8462963104248047,\n",
       "  0.8444444537162781,\n",
       "  0.8490740656852722,\n",
       "  0.8490740656852722,\n",
       "  0.8490740656852722,\n",
       "  0.8490740656852722,\n",
       "  0.8500000238418579,\n",
       "  0.8509259223937988,\n",
       "  0.854629635810852,\n",
       "  0.8518518805503845,\n",
       "  0.8537036776542664,\n",
       "  0.855555534362793,\n",
       "  0.8574073910713196,\n",
       "  0.8601852059364319,\n",
       "  0.8620370626449585,\n",
       "  0.8629629611968994,\n",
       "  0.8629629611968994,\n",
       "  0.8638888597488403,\n",
       "  0.8638888597488403,\n",
       "  0.8685185313224792,\n",
       "  0.8685185313224792,\n",
       "  0.8685185313224792,\n",
       "  0.8712962865829468,\n",
       "  0.8703703880310059,\n",
       "  0.8722222447395325],\n",
       " 'val_loss': [1.784493327140808,\n",
       "  1.7769337892532349,\n",
       "  1.7698249816894531,\n",
       "  1.7581703662872314,\n",
       "  1.7460403442382812,\n",
       "  1.7303942441940308,\n",
       "  1.710871934890747,\n",
       "  1.6890000104904175,\n",
       "  1.6641374826431274,\n",
       "  1.6349462270736694,\n",
       "  1.6048215627670288,\n",
       "  1.5687772035598755,\n",
       "  1.5330805778503418,\n",
       "  1.493280291557312,\n",
       "  1.4494234323501587,\n",
       "  1.4079231023788452,\n",
       "  1.3700350522994995,\n",
       "  1.3366622924804688,\n",
       "  1.3033852577209473,\n",
       "  1.2688478231430054,\n",
       "  1.2448360919952393,\n",
       "  1.2150741815567017,\n",
       "  1.1913212537765503,\n",
       "  1.1669846773147583,\n",
       "  1.1428202390670776,\n",
       "  1.1200737953186035,\n",
       "  1.099878191947937,\n",
       "  1.081810474395752,\n",
       "  1.0632160902023315,\n",
       "  1.0434643030166626,\n",
       "  1.0245774984359741,\n",
       "  1.0101945400238037,\n",
       "  0.9954535961151123,\n",
       "  0.9810077548027039,\n",
       "  0.9660285711288452,\n",
       "  0.9548929333686829,\n",
       "  0.9415003061294556,\n",
       "  0.9320718050003052,\n",
       "  0.9199742674827576,\n",
       "  0.9110195636749268,\n",
       "  0.8986601233482361,\n",
       "  0.8908682465553284,\n",
       "  0.8813809752464294,\n",
       "  0.8714622855186462,\n",
       "  0.8613723516464233,\n",
       "  0.8539273738861084,\n",
       "  0.8451107144355774,\n",
       "  0.8371536731719971,\n",
       "  0.828213095664978,\n",
       "  0.8215755820274353,\n",
       "  0.8127525448799133,\n",
       "  0.8062440156936646,\n",
       "  0.7977827787399292,\n",
       "  0.7911660671234131,\n",
       "  0.7836983799934387,\n",
       "  0.777695894241333,\n",
       "  0.7703603506088257,\n",
       "  0.7645010352134705,\n",
       "  0.7579373717308044,\n",
       "  0.7527043223381042,\n",
       "  0.746282696723938,\n",
       "  0.7410882115364075,\n",
       "  0.7351903915405273,\n",
       "  0.7300163507461548,\n",
       "  0.7243775725364685,\n",
       "  0.7195303440093994,\n",
       "  0.7146626710891724,\n",
       "  0.7097688317298889,\n",
       "  0.705160915851593,\n",
       "  0.7003316879272461,\n",
       "  0.6960744261741638,\n",
       "  0.6918671727180481,\n",
       "  0.6873797178268433,\n",
       "  0.6835845112800598,\n",
       "  0.6795076727867126,\n",
       "  0.675896406173706,\n",
       "  0.6718818545341492,\n",
       "  0.6683827042579651,\n",
       "  0.6642125844955444,\n",
       "  0.660692572593689,\n",
       "  0.6571663022041321,\n",
       "  0.653807520866394,\n",
       "  0.6506540179252625,\n",
       "  0.6474282741546631,\n",
       "  0.6444380879402161,\n",
       "  0.6417404413223267,\n",
       "  0.638280987739563,\n",
       "  0.6354580521583557,\n",
       "  0.6317269206047058,\n",
       "  0.6285312175750732,\n",
       "  0.6247644424438477,\n",
       "  0.6215726137161255,\n",
       "  0.6180018186569214,\n",
       "  0.6153072118759155,\n",
       "  0.6122037172317505,\n",
       "  0.6093143820762634,\n",
       "  0.6065265536308289,\n",
       "  0.6036004424095154,\n",
       "  0.6006641387939453,\n",
       "  0.5975532531738281],\n",
       " 'val_accuracy': [0.19166666269302368,\n",
       "  0.2666666805744171,\n",
       "  0.28333333134651184,\n",
       "  0.2916666567325592,\n",
       "  0.3333333432674408,\n",
       "  0.38333332538604736,\n",
       "  0.4000000059604645,\n",
       "  0.4166666567325592,\n",
       "  0.4166666567325592,\n",
       "  0.3916666805744171,\n",
       "  0.36666667461395264,\n",
       "  0.3583333194255829,\n",
       "  0.38333332538604736,\n",
       "  0.3916666805744171,\n",
       "  0.4166666567325592,\n",
       "  0.4416666626930237,\n",
       "  0.42500001192092896,\n",
       "  0.4416666626930237,\n",
       "  0.4833333194255829,\n",
       "  0.49166667461395264,\n",
       "  0.5083333253860474,\n",
       "  0.5166666507720947,\n",
       "  0.5333333611488342,\n",
       "  0.5416666865348816,\n",
       "  0.550000011920929,\n",
       "  0.550000011920929,\n",
       "  0.5416666865348816,\n",
       "  0.5333333611488342,\n",
       "  0.5416666865348816,\n",
       "  0.550000011920929,\n",
       "  0.5666666626930237,\n",
       "  0.574999988079071,\n",
       "  0.5833333134651184,\n",
       "  0.5916666388511658,\n",
       "  0.6000000238418579,\n",
       "  0.6083333492279053,\n",
       "  0.6000000238418579,\n",
       "  0.6166666746139526,\n",
       "  0.6083333492279053,\n",
       "  0.6166666746139526,\n",
       "  0.6166666746139526,\n",
       "  0.6333333253860474,\n",
       "  0.6333333253860474,\n",
       "  0.6416666507720947,\n",
       "  0.6499999761581421,\n",
       "  0.6416666507720947,\n",
       "  0.6499999761581421,\n",
       "  0.6499999761581421,\n",
       "  0.6499999761581421,\n",
       "  0.6416666507720947,\n",
       "  0.6583333611488342,\n",
       "  0.6416666507720947,\n",
       "  0.6583333611488342,\n",
       "  0.6583333611488342,\n",
       "  0.6666666865348816,\n",
       "  0.6666666865348816,\n",
       "  0.675000011920929,\n",
       "  0.6666666865348816,\n",
       "  0.6916666626930237,\n",
       "  0.6666666865348816,\n",
       "  0.6916666626930237,\n",
       "  0.6916666626930237,\n",
       "  0.699999988079071,\n",
       "  0.7083333134651184,\n",
       "  0.7250000238418579,\n",
       "  0.7083333134651184,\n",
       "  0.7250000238418579,\n",
       "  0.7166666388511658,\n",
       "  0.75,\n",
       "  0.7333333492279053,\n",
       "  0.7583333253860474,\n",
       "  0.7416666746139526,\n",
       "  0.7666666507720947,\n",
       "  0.7583333253860474,\n",
       "  0.7666666507720947,\n",
       "  0.7666666507720947,\n",
       "  0.7666666507720947,\n",
       "  0.7666666507720947,\n",
       "  0.7666666507720947,\n",
       "  0.7666666507720947,\n",
       "  0.7666666507720947,\n",
       "  0.7666666507720947,\n",
       "  0.7666666507720947,\n",
       "  0.7666666507720947,\n",
       "  0.7666666507720947,\n",
       "  0.7583333253860474,\n",
       "  0.7666666507720947,\n",
       "  0.7666666507720947,\n",
       "  0.7666666507720947,\n",
       "  0.7749999761581421,\n",
       "  0.7833333611488342,\n",
       "  0.7833333611488342,\n",
       "  0.7833333611488342,\n",
       "  0.7833333611488342,\n",
       "  0.7833333611488342,\n",
       "  0.7833333611488342,\n",
       "  0.7833333611488342,\n",
       "  0.7833333611488342,\n",
       "  0.7833333611488342,\n",
       "  0.7833333611488342]}"
      ]
     },
     "execution_count": 32,
     "metadata": {},
     "output_type": "execute_result"
    }
   ],
   "source": [
    "history.history"
   ]
  },
  {
   "cell_type": "markdown",
   "metadata": {},
   "source": [
    "Now visualize the loss over time using `history.history`: "
   ]
  },
  {
   "cell_type": "code",
   "execution_count": 33,
   "metadata": {},
   "outputs": [
    {
     "data": {
      "text/plain": [
       "[Text(0, 0.5, 'Accuracy'), Text(0.5, 0, 'Epoch')]"
      ]
     },
     "execution_count": 33,
     "metadata": {},
     "output_type": "execute_result"
    },
    {
     "data": {
      "image/png": "[encoded data removed]",
      "text/plain": [
       "<Figure size 864x576 with 1 Axes>"
      ]
     },
     "metadata": {
      "needs_background": "light"
     },
     "output_type": "display_data"
    },
    {
     "data": {
      "image/png": "[encoded data removed]",
      "text/plain": [
       "<Figure size 864x576 with 1 Axes>"
      ]
     },
     "metadata": {
      "needs_background": "light"
     },
     "output_type": "display_data"
    }
   ],
   "source": [
    "# The history.history[\"loss\"] entry is a dictionary with as many values as epochs that the\n",
    "# model was trained on. \n",
    "df_loss_acc = pd.DataFrame(history.history)\n",
    "df_loss= df_loss_acc[['loss','val_loss']]\n",
    "df_loss.rename(columns={'loss':'train','val_loss':'validation'},inplace=True)\n",
    "df_acc= df_loss_acc[['accuracy','val_accuracy']]\n",
    "df_acc.rename(columns={'accuracy':'train','val_accuracy':'validation'},inplace=True)\n",
    "df_loss.plot(title='Model loss',figsize=(12,8)).set(xlabel='Epoch',ylabel='Loss')\n",
    "df_acc.plot(title='Model Accuracy',figsize=(12,8)).set(xlabel='Epoch',ylabel='Accuracy')"
   ]
  },
  {
   "cell_type": "markdown",
   "metadata": {},
   "source": [
    "**Congratulations**! You've finished the assignment and built two models: One that recognizes  smiles, and another that recognizes SIGN language with almost 80% accuracy on the test set. In addition to that, you now also understand the applications of two Keras APIs: Sequential and Functional. Nicely done! \n",
    "\n",
    "By now, you know a bit about how the Functional API works and may have glimpsed the possibilities. In your next assignment, you'll really get a feel for its power when you get the opportunity to build a very deep ConvNet, using ResNets! "
   ]
  },
  {
   "cell_type": "markdown",
   "metadata": {},
   "source": [
    "<a name='6'></a>\n",
    "## 6 - Bibliography\n",
    "\n",
    "You're always encouraged to read the official documentation. To that end, you can find the docs for the Sequential and Functional APIs here: \n",
    "\n",
    "https://www.tensorflow.org/guide/keras/sequential_model\n",
    "\n",
    "https://www.tensorflow.org/guide/keras/functional"
   ]
  }
 ],
 "metadata": {
  "coursera": {
   "course_slug": "convolutional-neural-networks",
   "graded_item_id": "bwbJV",
   "launcher_item_id": "0TkXB"
  },
  "kernelspec": {
   "display_name": "Python 3",
   "language": "python",
   "name": "python3"
  },
  "language_info": {
   "codemirror_mode": {
    "name": "ipython",
    "version": 3
   },
   "file_extension": ".py",
   "mimetype": "text/x-python",
   "name": "python",
   "nbconvert_exporter": "python",
   "pygments_lexer": "ipython3",
   "version": "3.7.6"
  }
 },
 "nbformat": 4,
 "nbformat_minor": 2
}
